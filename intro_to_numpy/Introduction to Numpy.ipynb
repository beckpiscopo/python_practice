{
 "cells": [
  {
   "cell_type": "markdown",
   "metadata": {},
   "source": [
    "# Introduction to Numpy\n",
    "Learning Numpy!"
   ]
  },
  {
   "cell_type": "code",
   "execution_count": 39,
   "metadata": {},
   "outputs": [
    {
     "data": {
      "text/plain": [
       "'1.15.1'"
      ]
     },
     "execution_count": 39,
     "metadata": {},
     "output_type": "execute_result"
    }
   ],
   "source": [
    "import matplotlib.pyplot as plt\n",
    "import numpy as np\n",
    "np.__version__"
   ]
  },
  {
   "cell_type": "markdown",
   "metadata": {},
   "source": [
    "## Differences between lists and NumPy Arrays\n",
    "- An array's size is immutable. You cannot append, insert, or remove elements, like you can with a list.\n",
    "- All of an array's elements must be of the same data type. \n",
    "- A NumPy array behaves in a pythonic fashion. You can len(my_array) just like you would assume."
   ]
  },
  {
   "cell_type": "code",
   "execution_count": 2,
   "metadata": {},
   "outputs": [],
   "source": [
    "gpas_as_list = [4.0, 3.286, 3.5]"
   ]
  },
  {
   "cell_type": "code",
   "execution_count": 3,
   "metadata": {},
   "outputs": [
    {
     "data": {
      "text/plain": [
       "'whatevs'"
      ]
     },
     "execution_count": 3,
     "metadata": {},
     "output_type": "execute_result"
    }
   ],
   "source": [
    "# Can have elements appended to it.\n",
    "gpas_as_list.append(4.0)\n",
    "# Can have multiple data types\n",
    "gpas_as_list.insert(1, \"whatevs\")\n",
    "gpas_as_list.pop(1)"
   ]
  },
  {
   "cell_type": "code",
   "execution_count": 4,
   "metadata": {},
   "outputs": [
    {
     "data": {
      "text/plain": [
       "[4.0, 3.286, 3.5, 4.0]"
      ]
     },
     "execution_count": 4,
     "metadata": {},
     "output_type": "execute_result"
    }
   ],
   "source": [
    "gpas_as_list"
   ]
  },
  {
   "cell_type": "code",
   "execution_count": 5,
   "metadata": {},
   "outputs": [],
   "source": [
    "gpas = np.array(gpas_as_list)"
   ]
  },
  {
   "cell_type": "code",
   "execution_count": 6,
   "metadata": {},
   "outputs": [],
   "source": [
    "?gpas"
   ]
  },
  {
   "cell_type": "markdown",
   "metadata": {},
   "source": [
    "## Indexing NumPy Arrays"
   ]
  },
  {
   "cell_type": "markdown",
   "metadata": {},
   "source": [
    "### ---Retrieve Item Size"
   ]
  },
  {
   "cell_type": "code",
   "execution_count": 7,
   "metadata": {
    "scrolled": true
   },
   "outputs": [
    {
     "data": {
      "text/plain": [
       "8"
      ]
     },
     "execution_count": 7,
     "metadata": {},
     "output_type": "execute_result"
    }
   ],
   "source": [
    "gpas.itemsize\n"
   ]
  },
  {
   "cell_type": "code",
   "execution_count": 8,
   "metadata": {},
   "outputs": [
    {
     "data": {
      "text/plain": [
       "4"
      ]
     },
     "execution_count": 8,
     "metadata": {},
     "output_type": "execute_result"
    }
   ],
   "source": [
    "gpas.size"
   ]
  },
  {
   "cell_type": "code",
   "execution_count": 9,
   "metadata": {},
   "outputs": [
    {
     "data": {
      "text/plain": [
       "4"
      ]
     },
     "execution_count": 9,
     "metadata": {},
     "output_type": "execute_result"
    }
   ],
   "source": [
    "len(gpas)"
   ]
  },
  {
   "cell_type": "code",
   "execution_count": 10,
   "metadata": {},
   "outputs": [
    {
     "data": {
      "text/plain": [
       "32"
      ]
     },
     "execution_count": 10,
     "metadata": {},
     "output_type": "execute_result"
    }
   ],
   "source": [
    "gpas.nbytes"
   ]
  },
  {
   "cell_type": "markdown",
   "metadata": {},
   "source": [
    "### ---Generate practice data with random() function"
   ]
  },
  {
   "cell_type": "code",
   "execution_count": 11,
   "metadata": {},
   "outputs": [
    {
     "data": {
      "text/plain": [
       "array([ 98, 146,  94,  80,  79, 118,  51,  67,  88,  51,  46,  81,  46,\n",
       "       175, 121,  64, 140, 162, 166, 117, 167,  94,  65, 139, 157, 100,\n",
       "       153,  70,  57, 119, 112, 141,  64,  63, 105, 174, 135, 147, 162,\n",
       "       101,  66, 179, 114, 147,  89,  62, 148,  90,  73, 142, 114, 103,\n",
       "        78, 123, 150, 119,  58,  54, 103,  59, 165,  91, 145, 114,  77,\n",
       "        60, 134, 150,  33, 103, 135,  68,  49, 110,  45, 148,  65,  51,\n",
       "       137, 171, 104,  57,  37, 149,  91, 170, 129, 148, 112,  81, 110,\n",
       "        33, 136, 103,  82, 147, 176,  48,  53, 143], dtype=uint16)"
      ]
     },
     "execution_count": 11,
     "metadata": {},
     "output_type": "execute_result"
    }
   ],
   "source": [
    "rand_array = np.random.RandomState(43)\n",
    "rand_log = rand_array.randint(30, 180, size=100, dtype=np.uint16)\n",
    "rand_log"
   ]
  },
  {
   "cell_type": "markdown",
   "metadata": {},
   "source": [
    "## Indexing Boolean Arrays"
   ]
  },
  {
   "cell_type": "code",
   "execution_count": 12,
   "metadata": {},
   "outputs": [
    {
     "data": {
      "text/plain": [
       "array([False, False, False, False, False, False,  True, False, False,\n",
       "        True,  True, False,  True, False, False, False, False, False,\n",
       "       False, False, False, False, False, False, False, False, False,\n",
       "       False,  True, False, False, False, False, False, False, False,\n",
       "       False, False, False, False, False, False, False, False, False,\n",
       "       False, False, False, False, False, False, False, False, False,\n",
       "       False, False,  True,  True, False,  True, False, False, False,\n",
       "       False, False, False, False, False,  True, False, False, False,\n",
       "        True, False,  True, False, False,  True, False, False, False,\n",
       "        True,  True, False, False, False, False, False, False, False,\n",
       "       False,  True, False, False, False, False, False,  True,  True,\n",
       "       False])"
      ]
     },
     "execution_count": 12,
     "metadata": {},
     "output_type": "execute_result"
    }
   ],
   "source": [
    "rand_log < 60"
   ]
  },
  {
   "cell_type": "markdown",
   "metadata": {},
   "source": [
    "### ---Fancy indexing with a boolean array \n",
    "Using a boolean array index is orders of magnitude faster than using a for loop. "
   ]
  },
  {
   "cell_type": "code",
   "execution_count": 13,
   "metadata": {},
   "outputs": [
    {
     "data": {
      "text/plain": [
       "array([51, 51, 46, 46, 57, 58, 54, 59, 33, 49, 45, 51, 57, 37, 33, 48, 53],\n",
       "      dtype=uint16)"
      ]
     },
     "execution_count": 13,
     "metadata": {},
     "output_type": "execute_result"
    }
   ],
   "source": [
    "rand_log[rand_log < 60]"
   ]
  },
  {
   "cell_type": "markdown",
   "metadata": {},
   "source": [
    "### --- Using boolean expressions to index an array\n",
    "\n",
    "Make sure to use ampersand instead of typing out 'and'"
   ]
  },
  {
   "cell_type": "code",
   "execution_count": 14,
   "metadata": {},
   "outputs": [
    {
     "data": {
      "text/plain": [
       "array([False, False,  True])"
      ]
     },
     "execution_count": 14,
     "metadata": {},
     "output_type": "execute_result"
    }
   ],
   "source": [
    "np.array([False, True, True]) & np.array([True, False, True])"
   ]
  },
  {
   "cell_type": "code",
   "execution_count": 15,
   "metadata": {},
   "outputs": [
    {
     "data": {
      "text/plain": [
       "array([51, 51, 46, 46, 57, 58, 54, 59, 33, 49, 45, 51, 57, 37, 33, 48, 53],\n",
       "      dtype=uint16)"
      ]
     },
     "execution_count": 15,
     "metadata": {},
     "output_type": "execute_result"
    }
   ],
   "source": [
    "rand_log[(rand_log < 60) & (rand_log > 0)] "
   ]
  },
  {
   "cell_type": "markdown",
   "metadata": {},
   "source": [
    "## Slicing Practice\n",
    "In Python, slices don't return a copy; they return a view of the data\n",
    "A <b>view</b> references the same value in memory"
   ]
  },
  {
   "cell_type": "code",
   "execution_count": 16,
   "metadata": {},
   "outputs": [
    {
     "data": {
      "text/plain": [
       "['rose', 'tulip']"
      ]
     },
     "execution_count": 16,
     "metadata": {},
     "output_type": "execute_result"
    }
   ],
   "source": [
    "flowers = [\"daisy\", \"rose\", \"tulip\", \"daffodil\", \"orchid\", \"sunflower\"]\n",
    "flowers[1:3]"
   ]
  },
  {
   "cell_type": "code",
   "execution_count": 17,
   "metadata": {},
   "outputs": [
    {
     "data": {
      "text/plain": [
       "['daisy', 'rose', 'tulip', 'daffodil', 'orchid']"
      ]
     },
     "execution_count": 17,
     "metadata": {},
     "output_type": "execute_result"
    }
   ],
   "source": [
    "flowers[:-1]"
   ]
  },
  {
   "cell_type": "code",
   "execution_count": null,
   "metadata": {},
   "outputs": [],
   "source": []
  },
  {
   "cell_type": "code",
   "execution_count": 18,
   "metadata": {},
   "outputs": [
    {
     "data": {
      "text/plain": [
       "array([[ 0,  1,  2,  3,  4,  5],\n",
       "       [ 6,  7,  8,  9, 10, 11],\n",
       "       [12, 13, 14, 15, 16, 17],\n",
       "       [18, 19, 20, 21, 22, 23],\n",
       "       [24, 25, 26, 27, 28, 29],\n",
       "       [30, 31, 32, 33, 34, 35],\n",
       "       [36, 37, 38, 39, 40, 41]])"
      ]
     },
     "execution_count": 18,
     "metadata": {},
     "output_type": "execute_result"
    }
   ],
   "source": [
    "practice = np.arange(42)\n",
    "practice.shape = (7,6)\n",
    "practice"
   ]
  },
  {
   "cell_type": "code",
   "execution_count": 19,
   "metadata": {},
   "outputs": [
    {
     "data": {
      "text/plain": [
       "13"
      ]
     },
     "execution_count": 19,
     "metadata": {},
     "output_type": "execute_result"
    }
   ],
   "source": [
    "practice[2,1]"
   ]
  },
  {
   "cell_type": "code",
   "execution_count": 20,
   "metadata": {},
   "outputs": [
    {
     "data": {
      "text/plain": [
       "array([[12, 13, 14, 15, 16, 17],\n",
       "       [18, 19, 20, 21, 22, 23],\n",
       "       [24, 25, 26, 27, 28, 29]])"
      ]
     },
     "execution_count": 20,
     "metadata": {},
     "output_type": "execute_result"
    }
   ],
   "source": [
    "practice[2:5]"
   ]
  },
  {
   "cell_type": "code",
   "execution_count": 21,
   "metadata": {},
   "outputs": [
    {
     "data": {
      "text/plain": [
       "array([[15, 17],\n",
       "       [21, 23]])"
      ]
     },
     "execution_count": 21,
     "metadata": {},
     "output_type": "execute_result"
    }
   ],
   "source": [
    "practice[2:4, 3::2]      #two colons skips over selected columns"
   ]
  },
  {
   "cell_type": "code",
   "execution_count": 22,
   "metadata": {},
   "outputs": [
    {
     "data": {
      "text/plain": [
       "True"
      ]
     },
     "execution_count": 22,
     "metadata": {},
     "output_type": "execute_result"
    }
   ],
   "source": [
    "practice.base is None"
   ]
  },
  {
   "cell_type": "code",
   "execution_count": 23,
   "metadata": {},
   "outputs": [
    {
     "data": {
      "text/plain": [
       "True"
      ]
     },
     "execution_count": 23,
     "metadata": {},
     "output_type": "execute_result"
    }
   ],
   "source": [
    "practice.flags['OWNDATA']"
   ]
  },
  {
   "cell_type": "code",
   "execution_count": null,
   "metadata": {},
   "outputs": [],
   "source": []
  },
  {
   "cell_type": "markdown",
   "metadata": {},
   "source": [
    "## Linear Algebra \n",
    "<ul>\n",
    "    <li>There is a module for linear algebra, <a href=\"https://docs.scipy.org/doc/numpy-1.15.1/reference/routines.linalg.html\">linalg</a></li>\n",
    "    <li>You can solve for a syste of equations using the solve() function</li>\n",
    "        <ul><li>You can create a square 2D matrix and a constant row vector and solve for each variable column</li>\n",
    "            <li>You can double check the answer using the inner product or dot() function.</li>\n",
    "        </ul>\n",
    "    <li>You can use the <code>@</code> to produce the dot product of two arrays.</li>\n",
    "</ul>\n",
    "    "
   ]
  },
  {
   "cell_type": "code",
   "execution_count": 24,
   "metadata": {},
   "outputs": [],
   "source": [
    "orders = np.array([\n",
    "    [2, 0, 0, 0],\n",
    "    [4, 1, 2, 2], \n",
    "    [0, 1, 0, 1],\n",
    "    [6, 0, 1, 2]\n",
    "])\n",
    "totals = np.array([3, 20.50, 10, 14.25])"
   ]
  },
  {
   "cell_type": "code",
   "execution_count": 25,
   "metadata": {},
   "outputs": [
    {
     "data": {
      "text/plain": [
       "array([1.5 , 8.  , 1.25, 2.  ])"
      ]
     },
     "execution_count": 25,
     "metadata": {},
     "output_type": "execute_result"
    }
   ],
   "source": [
    "prices = np.linalg.solve(orders, totals)\n",
    "prices"
   ]
  },
  {
   "cell_type": "code",
   "execution_count": 26,
   "metadata": {},
   "outputs": [
    {
     "data": {
      "text/plain": [
       "array([ 3.  , 20.5 , 10.  , 14.25])"
      ]
     },
     "execution_count": 26,
     "metadata": {},
     "output_type": "execute_result"
    }
   ],
   "source": [
    "# A • B\n",
    "\n",
    "orders @ prices"
   ]
  },
  {
   "cell_type": "code",
   "execution_count": 27,
   "metadata": {},
   "outputs": [
    {
     "data": {
      "text/plain": [
       "array([ 3.  , 20.5 , 10.  , 14.25])"
      ]
     },
     "execution_count": 27,
     "metadata": {},
     "output_type": "execute_result"
    }
   ],
   "source": [
    "orders.dot(prices)"
   ]
  },
  {
   "cell_type": "markdown",
   "metadata": {},
   "source": [
    "### Vector math with NumPy"
   ]
  },
  {
   "cell_type": "code",
   "execution_count": 28,
   "metadata": {},
   "outputs": [
    {
     "data": {
      "text/plain": [
       "(array([1, 2, 3, 4, 5]), array([ 6,  7,  8,  9, 10]))"
      ]
     },
     "execution_count": 28,
     "metadata": {},
     "output_type": "execute_result"
    }
   ],
   "source": [
    "a, b = np.split(np.arange(1,11), 2)\n",
    "a, b\n"
   ]
  },
  {
   "cell_type": "code",
   "execution_count": 29,
   "metadata": {},
   "outputs": [
    {
     "data": {
      "text/plain": [
       "array([ 7,  9, 11, 13, 15])"
      ]
     },
     "execution_count": 29,
     "metadata": {},
     "output_type": "execute_result"
    }
   ],
   "source": [
    "a + b"
   ]
  },
  {
   "cell_type": "code",
   "execution_count": 30,
   "metadata": {},
   "outputs": [
    {
     "data": {
      "text/plain": [
       "array([-5, -5, -5, -5, -5])"
      ]
     },
     "execution_count": 30,
     "metadata": {},
     "output_type": "execute_result"
    }
   ],
   "source": [
    "a - b"
   ]
  },
  {
   "cell_type": "code",
   "execution_count": 31,
   "metadata": {},
   "outputs": [
    {
     "data": {
      "text/plain": [
       "array([5, 5, 5, 5, 5])"
      ]
     },
     "execution_count": 31,
     "metadata": {},
     "output_type": "execute_result"
    }
   ],
   "source": [
    "b - a "
   ]
  },
  {
   "cell_type": "code",
   "execution_count": 32,
   "metadata": {},
   "outputs": [
    {
     "data": {
      "text/plain": [
       "array([ 6, 14, 24, 36, 50])"
      ]
     },
     "execution_count": 32,
     "metadata": {},
     "output_type": "execute_result"
    }
   ],
   "source": [
    "a * b"
   ]
  },
  {
   "cell_type": "code",
   "execution_count": 33,
   "metadata": {},
   "outputs": [
    {
     "data": {
      "text/plain": [
       "array([3, 4, 5, 6, 7])"
      ]
     },
     "execution_count": 33,
     "metadata": {},
     "output_type": "execute_result"
    }
   ],
   "source": [
    "a + 2"
   ]
  },
  {
   "cell_type": "markdown",
   "metadata": {},
   "source": [
    "## Universal Functions\n",
    "<ul>\n",
    "    <li><a href=\"https://docs.scipy.org/doc/numpy-1.15.1/reference/ufuncs.html\">ufuncs</a> are commonly needed vectorized functions</li>\n",
    "    <ul><li>Vectorized functions allow you to operate element by element without using a loop.</li></ul> \n",
    "    <li>The standard math and comparison operators have all been overloaded sothat they can make use of vectorization.</li>\n",
    "    <li>Values can be <a href=\"https://docs.scipy.org/doc/numpy-1.15.1/reference/ufuncs.html#broadcasting\">broadcasted</a>, or stretched to be applied to the ufunc.\n",
    "        \n",
    "\n",
    "If you want to find a NumPy function without leaving your notebook, use <code>np.lookfor()</code> function\n"
   ]
  },
  {
   "cell_type": "code",
   "execution_count": 37,
   "metadata": {},
   "outputs": [
    {
     "name": "stdout",
     "output_type": "stream",
     "text": [
      "Search results for 'reshape'\n",
      "----------------------------\n",
      "numpy.ma.reshape\n",
      "    Returns an array containing the same data with a new shape.\n",
      "numpy.chararray.reshape\n",
      "    Returns an array containing the same data with a new shape.\n",
      "numpy.matrix.squeeze\n",
      "    Return a possibly reshaped matrix.\n",
      "numpy.reshape\n",
      "    Gives a new shape to an array without changing its data.\n",
      "numpy.add\n",
      "    Add arguments element-wise.\n",
      "numpy.dot\n",
      "    Dot product of two arrays. Specifically,\n",
      "numpy.ix_\n",
      "    Construct an open mesh from multiple sequences.\n",
      "numpy.pad\n",
      "    Pads an array.\n",
      "numpy.ptp\n",
      "    Range of values (maximum - minimum) along an axis.\n",
      "numpy.amax\n",
      "    Return the maximum of an array or maximum along an axis.\n",
      "numpy.amin\n",
      "    Return the minimum of an array or minimum along an axis.\n",
      "numpy.diag\n",
      "    Extract a diagonal or construct a diagonal array.\n",
      "numpy.flip\n",
      "    Reverse the order of elements in an array along the given axis.\n",
      "numpy.fmod\n",
      "    Return the element-wise remainder of division.\n",
      "numpy.isin\n",
      "    Calculates `element in test_elements`, broadcasting over `element` only.\n",
      "numpy.kron\n",
      "    Kronecker product of two arrays.\n",
      "numpy.roll\n",
      "    Roll array elements along a given axis.\n",
      "numpy.inner\n",
      "    Inner product of two arrays.\n",
      "numpy.place\n",
      "    Change elements of an array based on conditional and input values.\n",
      "numpy.ravel\n",
      "    Return a contiguous flattened array.\n",
      "numpy.rot90\n",
      "    Rotate an array by 90 degrees in the plane specified by axes.\n",
      "numpy.trace\n",
      "    Return the sum along diagonals of the array.\n",
      "numpy.trapz\n",
      "    Integrate along the given axis using the composite trapezoidal rule.\n",
      "numpy.where\n",
      "    Return elements, either from `x` or `y`, depending on `condition`.\n",
      "numpy.argmax\n",
      "    Returns the indices of the maximum values along an axis.\n",
      "numpy.argmin\n",
      "    Returns the indices of the minimum values along an axis.\n",
      "numpy.choose\n",
      "    Construct an array from an index array and a set of arrays to choose from.\n",
      "numpy.dsplit\n",
      "    Split array into multiple sub-arrays along the 3rd axis (depth).\n",
      "numpy.dstack\n",
      "    Stack arrays in sequence depth wise (along third axis).\n",
      "numpy.einsum\n",
      "    einsum(subscripts, *operands, out=None, dtype=None, order='K',\n",
      "numpy.hsplit\n",
      "    Split an array into multiple sub-arrays horizontally (column-wise).\n",
      "numpy.insert\n",
      "    Insert values along the given axis before the given indices.\n",
      "numpy.matmul\n",
      "    Matrix product of two arrays.\n",
      "numpy.resize\n",
      "    Return a new array with the specified shape.\n",
      "numpy.vsplit\n",
      "    Split an array into multiple sub-arrays vertically (row-wise).\n",
      "numpy.average\n",
      "    Compute the weighted average along the specified axis.\n",
      "numpy.extract\n",
      "    Return the elements of an array that satisfy some condition.\n",
      "numpy.indices\n",
      "    Return an array representing the indices of a grid.\n",
      "numpy.putmask\n",
      "    Changes elements of an array based on conditional and input values.\n",
      "numpy.require\n",
      "    Return an ndarray of the provided type that satisfies requirements.\n",
      "numpy.squeeze\n",
      "    Remove single-dimensional entries from the shape of an array.\n",
      "numpy.argwhere\n",
      "    Find the indices of array elements that are non-zero, grouped by element.\n",
      "numpy.diagonal\n",
      "    Return specified diagonals.\n",
      "numpy.flatiter\n",
      "    Flat iterator object to iterate over arrays.\n",
      "numpy.multiply\n",
      "    Multiply arguments element-wise.\n",
      "numpy.subtract\n",
      "    Subtract arguments, element-wise.\n",
      "numpy.chararray\n",
      "    chararray(shape, itemsize=1, unicode=False, buffer=None, offset=0,\n",
      "numpy.ones_like\n",
      "    Return an array of ones with the same shape and type as a given array.\n",
      "numpy.row_stack\n",
      "    Stack arrays in sequence vertically (row wise).\n",
      "numpy.tensordot\n",
      "    Compute tensor dot product along specified axes for arrays >= 1-D.\n",
      "numpy.transpose\n",
      "    Permute the dimensions of an array.\n",
      "numpy.atleast_1d\n",
      "    Convert inputs to arrays with at least one dimension.\n",
      "numpy.atleast_3d\n",
      "    View inputs as arrays with at least three dimensions.\n",
      "numpy.zeros_like\n",
      "    Return an array of zeros with the same shape and type as a given array.\n",
      "numpy.expand_dims\n",
      "    Expand the shape of an array.\n",
      "numpy.ma.add\n",
      "    Add arguments element-wise.\n",
      "numpy.diag_indices\n",
      "    Return the indices to access the main diagonal of an array.\n",
      "numpy.mask_indices\n",
      "    Return the indices to access (n, n) arrays, given a masking function.\n",
      "numpy.nested_iters\n",
      "    Create nditers for use in nested loops\n",
      "numpy.tril_indices\n",
      "    Return the indices for the lower-triangle of an (n, m) array.\n",
      "numpy.triu_indices\n",
      "    Return the indices for the upper-triangle of an (n, m) array.\n",
      "numpy.ma.fmod\n",
      "    Return the element-wise remainder of division.\n",
      "numpy.ma.count\n",
      "    Count the non-masked elements of the array along the given axis.\n",
      "numpy.ma.inner\n",
      "    Inner product of two arrays.\n",
      "numpy.asfortranarray\n",
      "    Return an array laid out in Fortran order in memory.\n",
      "numpy.ma.where\n",
      "    Return a masked array with elements from x or y, depending on condition.\n",
      "numpy.ma.argmax\n",
      "    Returns array of indices of the maximum values along the given axis.\n",
      "numpy.ma.dstack\n",
      "    dstack(tup)\n",
      "numpy.ma.filled\n",
      "    Return input as an array with masked data replaced by a fill value.\n",
      "numpy.apply_over_axes\n",
      "    Apply a function repeatedly over multiple axes.\n",
      "numpy.ma.hsplit\n",
      "    Split an array into multiple sub-arrays horizontally (column-wise).\n",
      "numpy.ma.median\n",
      "    Compute the median along the specified axis.\n",
      "numpy.set_numeric_ops\n",
      "    Set numerical operators for array objects.\n",
      "numpy.ma.asarray\n",
      "    Convert the input to a masked array of the given data-type.\n",
      "numpy.ma.average\n",
      "    Return the weighted average of array over the given axis.\n",
      "numpy.matrix.all\n",
      "    Test whether all matrix elements along a given axis evaluate to True.\n",
      "numpy.matrix.max\n",
      "    Return the maximum value along an axis.\n",
      "numpy.matrix.min\n",
      "    Return the minimum value along an axis.\n",
      "numpy.matrix.ptp\n",
      "    Peak-to-peak (maximum - minimum) value along the given axis.\n",
      "numpy.matrix.std\n",
      "    Return the standard deviation of the array elements along the given axis.\n",
      "numpy.matrix.var\n",
      "    Returns the variance of the matrix elements, along the given axis.\n",
      "numpy.linalg.norm\n",
      "    Matrix or vector norm.\n",
      "numpy.fft.fftshift\n",
      "    Shift the zero-frequency component to the center of the spectrum.\n",
      "numpy.ma.fromflex\n",
      "    Build a masked array from a suitable flexible-type array.\n",
      "numpy.ascontiguousarray\n",
      "    Return a contiguous array in memory (C order).\n",
      "numpy.ma.multiply\n",
      "    Multiply arguments element-wise.\n",
      "numpy.ma.subtract\n",
      "    Subtract arguments, element-wise.\n",
      "numpy.matrix.getA\n",
      "    Return `self` as an `ndarray` object.\n",
      "numpy.matrix.getH\n",
      "    Returns the (complex) conjugate transpose of `self`.\n",
      "numpy.matrix.mean\n",
      "    Returns the average of the matrix elements along the given axis.\n",
      "numpy.matrix.prod\n",
      "    Return the product of the array elements over the given axis.\n",
      "numpy.fft.ifftshift\n",
      "    The inverse of `fftshift`. Although identical for even-length `x`, the\n",
      "numpy.flatiter.copy\n",
      "    copy()\n",
      "numpy.ma.row_stack\n",
      "    vstack(tup)\n",
      "numpy.ma.transpose\n",
      "    Permute the dimensions of an array.\n",
      "numpy.chararray.view\n",
      "    New view of array with the same data.\n",
      "numpy.matrix.getA1\n",
      "    Return `self` as a flattened `ndarray`.\n",
      "numpy.ma.asanyarray\n",
      "    Convert the input to a masked array, conserving subclasses.\n",
      "numpy.ma.atleast_1d\n",
      "    atleast_1d(*arys)\n",
      "numpy.ma.atleast_3d\n",
      "    atleast_3d(*arys)\n",
      "numpy.ufunc.reduce\n",
      "    Reduces `a`'s dimension by one, by applying ufunc along one axis.\n",
      "numpy.matlib.repmat\n",
      "    Repeat a 0-D to 2-D array or matrix MxN times.\n",
      "numpy.matrix.argmax\n",
      "    Indexes of the maximum values along an axis.\n",
      "numpy.matrix.argmin\n",
      "    Indexes of the minimum values along an axis.\n",
      "numpy.matrix.tolist\n",
      "    Return the matrix as a (possibly nested) list.\n",
      "numpy.chararray.resize\n",
      "    Change shape and size of array in-place.\n",
      "numpy.ma.count_masked\n",
      "    Count the number of masked elements along the given axis.\n",
      "numpy.ufunc.reduceat\n",
      "    Performs a (local) reduce with specified slices over a single axis.\n",
      "numpy.ma.apply_over_axes\n",
      "    Apply a function repeatedly over multiple axes.\n",
      "numpy.ma.notmasked_edges\n",
      "    Find the indices of the first and last unmasked values along an axis.\n",
      "numpy.ma.compress_rowcols\n",
      "    Suppress the rows and/or columns of a 2-D array that contain\n",
      "numpy.core.tests.test_indexing.TestFloatNonIntegerArgument\n",
      "    These test that ``TypeError`` is raised when you try to use\n",
      "numpy.ma.MaskedArray.reshape\n",
      "    Give a new shape to the array without changing its data.\n",
      "numpy.ma.notmasked_contiguous\n",
      "    Find contiguous unmasked data in a masked array along the given axis.\n",
      "numpy.ma.MaskedArray.mini\n",
      "    Return the array minimum along the specified axis.\n",
      "numpy.ma.MaskedArray.view\n",
      "    New view of array with the same data.\n",
      "numpy.ma.MaskedArray.count\n",
      "    Count the non-masked elements of the array along the given axis.\n",
      "numpy.ma.MaskedArray.argmax\n",
      "    Returns array of indices of the maximum values along the given axis.\n",
      "numpy.polynomial.Polynomial._val\n",
      "    Evaluate a polynomial at points x.\n",
      "numpy.lib.arrayterator.Arrayterator\n",
      "    Buffered iterator for big arrays.\n",
      "numpy.polynomial.polyutils.as_series\n",
      "    Return argument as a list of 1-d arrays.\n",
      "numpy.polynomial.polynomial.polyvalfromroots\n",
      "    Evaluate a polynomial specified by its roots at points x.\n",
      "numpy.core.tests.test_indexing.TestMultiIndexingAutomated._check_multi_index\n",
      "    Check a multi index item getting and simple setting."
     ]
    }
   ],
   "source": [
    "np.lookfor(\"reshape\")"
   ]
  },
  {
   "cell_type": "markdown",
   "metadata": {},
   "source": [
    "## Common Routines\n",
    "<ul>\n",
    "    <li>Common mathematical routines are exposed so the formula can be abstracted away.</li>\n",
    "    <ul><li><code>mean</code> is a statistics routine used to calculate the average.</li></ul>\n",
    "    <li>Reduction functions take a dimension and collapse it into a single value.</li>\n",
    "    <ul><li>These functions define an axis parameter, and you should remember that the function works across the dimension</li></ul>\n",
    "</ul>\n",
    "        "
   ]
  },
  {
   "cell_type": "code",
   "execution_count": 43,
   "metadata": {},
   "outputs": [
    {
     "data": {
      "text/plain": [
       "{'whiskers': [<matplotlib.lines.Line2D at 0x11ad57898>,\n",
       "  <matplotlib.lines.Line2D at 0x11ad57cc0>,\n",
       "  <matplotlib.lines.Line2D at 0x11adc3630>,\n",
       "  <matplotlib.lines.Line2D at 0x11adc3a58>,\n",
       "  <matplotlib.lines.Line2D at 0x11add43c8>,\n",
       "  <matplotlib.lines.Line2D at 0x11add47f0>,\n",
       "  <matplotlib.lines.Line2D at 0x11addcdd8>,\n",
       "  <matplotlib.lines.Line2D at 0x11ade4588>],\n",
       " 'caps': [<matplotlib.lines.Line2D at 0x11ad57da0>,\n",
       "  <matplotlib.lines.Line2D at 0x11adba550>,\n",
       "  <matplotlib.lines.Line2D at 0x11adc3e80>,\n",
       "  <matplotlib.lines.Line2D at 0x11adc3f60>,\n",
       "  <matplotlib.lines.Line2D at 0x11add4c18>,\n",
       "  <matplotlib.lines.Line2D at 0x11add4cf8>,\n",
       "  <matplotlib.lines.Line2D at 0x11ade49b0>,\n",
       "  <matplotlib.lines.Line2D at 0x11ade4dd8>],\n",
       " 'boxes': [<matplotlib.lines.Line2D at 0x11ad57320>,\n",
       "  <matplotlib.lines.Line2D at 0x11adbae48>,\n",
       "  <matplotlib.lines.Line2D at 0x11adcaf60>,\n",
       "  <matplotlib.lines.Line2D at 0x11addccf8>],\n",
       " 'medians': [<matplotlib.lines.Line2D at 0x11adba978>,\n",
       "  <matplotlib.lines.Line2D at 0x11adca710>,\n",
       "  <matplotlib.lines.Line2D at 0x11addc4a8>,\n",
       "  <matplotlib.lines.Line2D at 0x11ade4eb8>],\n",
       " 'fliers': [<matplotlib.lines.Line2D at 0x11adbada0>,\n",
       "  <matplotlib.lines.Line2D at 0x11adcab38>,\n",
       "  <matplotlib.lines.Line2D at 0x11addc8d0>,\n",
       "  <matplotlib.lines.Line2D at 0x11adec668>],\n",
       " 'means': []}"
      ]
     },
     "execution_count": 43,
     "metadata": {},
     "output_type": "execute_result"
    },
    {
     "data": {
      "image/png": "[encoded data removed]",
      "text/plain": [
       "<Figure size 432x288 with 1 Axes>"
      ]
     },
     "metadata": {
      "needs_background": "light"
     },
     "output_type": "display_data"
    }
   ],
   "source": [
    "plt.boxplot(orders.T)"
   ]
  },
  {
   "cell_type": "code",
   "execution_count": null,
   "metadata": {},
   "outputs": [],
   "source": [
    "\n"
   ]
  },
  {
   "cell_type": "code",
   "execution_count": null,
   "metadata": {},
   "outputs": [],
   "source": []
  }
 ],
 "metadata": {
  "kernelspec": {
   "display_name": "Python 3",
   "language": "python",
   "name": "python3"
  },
  "language_info": {
   "codemirror_mode": {
    "name": "ipython",
    "version": 3
   },
   "file_extension": ".py",
   "mimetype": "text/x-python",
   "name": "python",
   "nbconvert_exporter": "python",
   "pygments_lexer": "ipython3",
   "version": "3.7.0"
  }
 },
 "nbformat": 4,
 "nbformat_minor": 2
}
